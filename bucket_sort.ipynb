{
 "cells": [
  {
   "cell_type": "code",
   "execution_count": 2,
   "metadata": {},
   "outputs": [],
   "source": [
    "import numpy as np\n",
    "import time\n",
    "import pandas as pd\n",
    "import matplotlib.pyplot as plt\n",
    "import math\n"
   ]
  },
  {
   "cell_type": "code",
   "execution_count": 3,
   "metadata": {},
   "outputs": [],
   "source": [
    "def quick_sort(arr):\n",
    "    \"\"\"\n",
    "    Sorts the array using QuickSort algorithm.\n",
    "    \"\"\"\n",
    "    if len(arr) <= 1:\n",
    "        return arr\n",
    "    pivot = arr[len(arr) // 2]\n",
    "    left = [x for x in arr if x < pivot]\n",
    "    middle = [x for x in arr if x == pivot]\n",
    "    right = [x for x in arr if x > pivot]\n",
    "    return np.concatenate([quick_sort(left), middle, quick_sort(right)])\n"
   ]
  },
  {
   "cell_type": "code",
   "execution_count": 4,
   "metadata": {},
   "outputs": [],
   "source": [
    "def heap_sort(arr):\n",
    "    \"\"\"\n",
    "    Sorts the array using HeapSort algorithm.\n",
    "    \"\"\"\n",
    "    def heapify(arr, n, i):\n",
    "        largest = i\n",
    "        l = 2 * i + 1\n",
    "        r = 2 * i + 2\n",
    "        if l < n and arr[i] < arr[l]:\n",
    "            largest = l\n",
    "        if r < n and arr[largest] < arr[r]:\n",
    "            largest = r\n",
    "        if largest != i:\n",
    "            arr[i], arr[largest] = arr[largest], arr[i]\n",
    "            heapify(arr, n, largest)\n",
    "    n = len(arr)\n",
    "    for i in range(n // 2 - 1, -1, -1):\n",
    "        heapify(arr, n, i)\n",
    "    for i in range(n - 1, 0, -1):\n",
    "        arr[i], arr[0] = arr[0], arr[i]\n",
    "        heapify(arr, i, 0)\n",
    "    return arr\n"
   ]
  },
  {
   "cell_type": "code",
   "execution_count": 5,
   "metadata": {},
   "outputs": [],
   "source": [
    "def insertion_sort(arr):\n",
    "    \"\"\"\n",
    "    Sorts the array using InsertionSort algorithm.\n",
    "    \"\"\"\n",
    "    for i in range(1, len(arr)):\n",
    "        key = arr[i]\n",
    "        j = i - 1\n",
    "        while j >= 0 and key < arr[j]:\n",
    "            arr[j + 1] = arr[j]\n",
    "            j -= 1\n",
    "        arr[j + 1] = key\n",
    "    return arr\n"
   ]
  },
  {
   "cell_type": "code",
   "execution_count": 6,
   "metadata": {},
   "outputs": [],
   "source": [
    "def merge_sort(arr):\n",
    "    \"\"\"\n",
    "    Sorts the array using MergeSort algorithm.\n",
    "    \"\"\"\n",
    "    if len(arr) > 1:\n",
    "        mid = len(arr) // 2\n",
    "        left_half = arr[:mid]\n",
    "        right_half = arr[mid:]\n",
    "        merge_sort(left_half)\n",
    "        merge_sort(right_half)\n",
    "        i = j = k = 0\n",
    "        while i < len(left_half) and j < len(right_half):\n",
    "            if left_half[i] < right_half[j]:\n",
    "                arr[k] = left_half[i]\n",
    "                i += 1\n",
    "            else:\n",
    "                arr[k] = right_half[j]\n",
    "                j += 1\n",
    "            k += 1\n",
    "        while i < len(left_half):\n",
    "            arr[k] = left_half[i]\n",
    "            i += 1\n",
    "            k += 1\n",
    "        while j < len(right_half):\n",
    "            arr[k] = right_half[j]\n",
    "            j += 1\n",
    "            k += 1\n",
    "    return arr\n"
   ]
  },
  {
   "cell_type": "code",
   "execution_count": 33,
   "metadata": {},
   "outputs": [],
   "source": [
    "def bucket_sort(input_list,alg_ord=\"IS\",percent = 1.0):\n",
    "    # o input_list deve ser uma lista de pontos flutuantes que variam de [0,1)\n",
    "    # o alg_ord deve ser uma das strings: \"IS\",\"QS\",\"MS\",\"HS\"\n",
    "    algoritmos_ordencao={\n",
    "        \"QS\":quick_sort,\n",
    "        \"MS\":merge_sort,\n",
    "        \"IS\":insertion_sort,\n",
    "        \"HS\":heap_sort\n",
    "    }\n",
    "    start_time = time.time()\n",
    "    n = len(input_list)\n",
    "    buckets_lenght = math.floor(n*percent)\n",
    "    buckets_list = [[] for _ in range(buckets_lenght)]\n",
    "    for i in range(n):\n",
    "        buckets_list[math.floor(input_list[i]*buckets_lenght)].append(input_list[i])\n",
    "    # Sort elements within the buckets using Insertion Sort\n",
    "    for z in range(buckets_lenght):\n",
    "        algoritmos_ordencao[alg_ord](buckets_list[z])\n",
    "    # Concatenate buckets with sorted elements into a single list\n",
    "    final_output = []\n",
    "    for x in range(buckets_lenght):\n",
    "        final_output = final_output + buckets_list[x]\n",
    "    #print(f\"Algoritmo: {alg_ord}\")\n",
    "    print(f\"Tamanho dos baldes:{buckets_lenght}\")\n",
    "    print(f\"tempo de execução: {time.time() - start_time:.6f} seconds\")\n",
    "    return final_output\n",
    "    \n"
   ]
  },
  {
   "cell_type": "code",
   "execution_count": 8,
   "metadata": {},
   "outputs": [],
   "source": [
    "def generate_random_vectors(n, m,max=50_000):\n",
    "    rng = np.random.default_rng(42)\n",
    "    \"\"\"\n",
    "    Generates n random integer vectors of length m using NumPy arrays.\n",
    "    \"\"\"\n",
    "    return rng.uniform(low=0, high=1.0, size=(n, int(m)))\n",
    "\n",
    "\n",
    "# Sort each vector using the specified algorithms and measure the execution time\n",
    "algoritmos = [\"IS\",\"QS\",\"MS\",\"HS\"]\n",
    "alg_temp_exec= {\n",
    "    100:[],\n",
    "    500:[],\n",
    "    1_000:[],\n",
    "    5_000:[],\n",
    "    30_000:[],\n",
    "    80_000:[],\n",
    "    100_000:[],\n",
    "    150_000:[],\n",
    "    200_000:[],\n",
    "    }"
   ]
  },
  {
   "cell_type": "code",
   "execution_count": 77,
   "metadata": {},
   "outputs": [],
   "source": [
    "\n",
    "# Generate 10 random integer vectors of length 5\n",
    "tam_vetor = 200_000\n",
    "vectors = generate_random_vectors(1,tam_vetor)\n",
    "for alg in algoritmos:\n",
    "    for i, vector in enumerate(vectors):\n",
    "        start_time = time.time()\n",
    "        bucket_sort(vector,alg)\n",
    "        delta_T = time.time() - start_time\n",
    "        alg_temp_exec[tam_vetor].append({\"algoritmo\":alg,\"tempo_execucao\":delta_T})\n",
    "        #print(f\"Tempo execução: ({delta_T:.6f} seconds)\")\n"
   ]
  },
  {
   "cell_type": "code",
   "execution_count": 78,
   "metadata": {},
   "outputs": [
    {
     "data": {
      "text/plain": [
       "{100: [{'algoritmo': 'IS', 'tempo_execucao': 0.0017826557159423828},\n",
       "  {'algoritmo': 'QS', 'tempo_execucao': 0.0},\n",
       "  {'algoritmo': 'MS', 'tempo_execucao': 0.0},\n",
       "  {'algoritmo': 'HS', 'tempo_execucao': 0.0}],\n",
       " 500: [{'algoritmo': 'IS', 'tempo_execucao': 0.000997781753540039},\n",
       "  {'algoritmo': 'QS', 'tempo_execucao': 0.00040531158447265625},\n",
       "  {'algoritmo': 'MS', 'tempo_execucao': 0.0017418861389160156},\n",
       "  {'algoritmo': 'HS', 'tempo_execucao': 0.0}],\n",
       " 1000: [{'algoritmo': 'IS', 'tempo_execucao': 0.002907276153564453},\n",
       "  {'algoritmo': 'QS', 'tempo_execucao': 0.003575563430786133},\n",
       "  {'algoritmo': 'MS', 'tempo_execucao': 0.0020093917846679688},\n",
       "  {'algoritmo': 'HS', 'tempo_execucao': 0.002001047134399414}],\n",
       " 5000: [{'algoritmo': 'IS', 'tempo_execucao': 0.03504371643066406},\n",
       "  {'algoritmo': 'QS', 'tempo_execucao': 0.04345965385437012},\n",
       "  {'algoritmo': 'MS', 'tempo_execucao': 0.03367280960083008},\n",
       "  {'algoritmo': 'HS', 'tempo_execucao': 0.03491330146789551}],\n",
       " 30000: [{'algoritmo': 'IS', 'tempo_execucao': 1.4179790019989014},\n",
       "  {'algoritmo': 'QS', 'tempo_execucao': 1.4689488410949707},\n",
       "  {'algoritmo': 'MS', 'tempo_execucao': 1.4015982151031494},\n",
       "  {'algoritmo': 'HS', 'tempo_execucao': 1.4065475463867188}],\n",
       " 80000: [{'algoritmo': 'IS', 'tempo_execucao': 10.929640531539917},\n",
       "  {'algoritmo': 'QS', 'tempo_execucao': 11.41736102104187},\n",
       "  {'algoritmo': 'MS', 'tempo_execucao': 10.954527378082275},\n",
       "  {'algoritmo': 'HS', 'tempo_execucao': 11.004119634628296}],\n",
       " 100000: [{'algoritmo': 'IS', 'tempo_execucao': 19.38597345352173},\n",
       "  {'algoritmo': 'QS', 'tempo_execucao': 18.43128490447998},\n",
       "  {'algoritmo': 'MS', 'tempo_execucao': 20.808216094970703},\n",
       "  {'algoritmo': 'HS', 'tempo_execucao': 19.397417068481445}],\n",
       " 150000: [{'algoritmo': 'IS', 'tempo_execucao': 79.19805002212524},\n",
       "  {'algoritmo': 'QS', 'tempo_execucao': 82.91051769256592},\n",
       "  {'algoritmo': 'MS', 'tempo_execucao': 81.74183130264282},\n",
       "  {'algoritmo': 'HS', 'tempo_execucao': 75.22558450698853}],\n",
       " 200000: [{'algoritmo': 'IS', 'tempo_execucao': 218.81231689453125},\n",
       "  {'algoritmo': 'QS', 'tempo_execucao': 220.2454924583435},\n",
       "  {'algoritmo': 'MS', 'tempo_execucao': 237.9349422454834},\n",
       "  {'algoritmo': 'HS', 'tempo_execucao': 232.01217198371887}]}"
      ]
     },
     "execution_count": 78,
     "metadata": {},
     "output_type": "execute_result"
    }
   ],
   "source": [
    "alg_temp_exec"
   ]
  },
  {
   "cell_type": "code",
   "execution_count": 16,
   "metadata": {},
   "outputs": [
    {
     "name": "stdout",
     "output_type": "stream",
     "text": [
      "[100, 500, 1000, 5000, 30000, 80000, 100000, 150000, 200000]\n"
     ]
    },
    {
     "data": {
      "text/plain": [
       "[]"
      ]
     },
     "execution_count": 16,
     "metadata": {},
     "output_type": "execute_result"
    }
   ],
   "source": [
    "tam_vetors = list(alg_temp_exec.keys())\n",
    "print(tam_vetors)\n",
    "alg_temp_exec[tam_vetors[4]]"
   ]
  },
  {
   "cell_type": "code",
   "execution_count": 76,
   "metadata": {},
   "outputs": [
    {
     "name": "stdout",
     "output_type": "stream",
     "text": [
      "Tamanho dos baldes:100000\n",
      "tempo de execução: 148.169541 seconds\n"
     ]
    }
   ],
   "source": [
    "vectors = generate_random_vectors(1,200_000)\n",
    "b = bucket_sort(vectors[0],\"HS\",percent=0.5)"
   ]
  },
  {
   "cell_type": "code",
   "execution_count": 140,
   "metadata": {},
   "outputs": [
    {
     "name": "stdout",
     "output_type": "stream",
     "text": [
      "Quick Sort: 1.005135 seconds\n"
     ]
    }
   ],
   "source": [
    "vectors = generate_random_vectors(1,200_000)\n",
    "t0 = time.time()\n",
    "quick_sort(vectors[0])\n",
    "t1 = time.time()\n",
    "print(f\"Quick Sort: {t1-t0:.6f} seconds\")"
   ]
  },
  {
   "cell_type": "code",
   "execution_count": 113,
   "metadata": {},
   "outputs": [
    {
     "data": {
      "text/plain": [
       "(1, 200000)"
      ]
     },
     "execution_count": 113,
     "metadata": {},
     "output_type": "execute_result"
    }
   ],
   "source": [
    "vectors.shape"
   ]
  }
 ],
 "metadata": {
  "kernelspec": {
   "display_name": "Python 3",
   "language": "python",
   "name": "python3"
  },
  "language_info": {
   "codemirror_mode": {
    "name": "ipython",
    "version": 3
   },
   "file_extension": ".py",
   "mimetype": "text/x-python",
   "name": "python",
   "nbconvert_exporter": "python",
   "pygments_lexer": "ipython3",
   "version": "3.11.0"
  }
 },
 "nbformat": 4,
 "nbformat_minor": 2
}
