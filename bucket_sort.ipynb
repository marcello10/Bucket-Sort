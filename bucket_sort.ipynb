{
 "cells": [
  {
   "cell_type": "code",
   "execution_count": 1,
   "metadata": {},
   "outputs": [],
   "source": [
    "import numpy as np\n",
    "import time\n",
    "import pandas as pd\n",
    "import matplotlib.pyplot as plt\n",
    "import math\n"
   ]
  },
  {
   "cell_type": "code",
   "execution_count": 2,
   "metadata": {},
   "outputs": [],
   "source": [
    "def quick_sort(arr):\n",
    "    \"\"\"\n",
    "    Sorts the array using QuickSort algorithm.\n",
    "    \"\"\"\n",
    "    if len(arr) <= 1:\n",
    "        return arr\n",
    "    pivot = arr[len(arr) // 2]\n",
    "    left = [x for x in arr if x < pivot]\n",
    "    middle = [x for x in arr if x == pivot]\n",
    "    right = [x for x in arr if x > pivot]\n",
    "    return np.concatenate([quick_sort(left), middle, quick_sort(right)])\n"
   ]
  },
  {
   "cell_type": "code",
   "execution_count": 3,
   "metadata": {},
   "outputs": [],
   "source": [
    "def heap_sort(arr):\n",
    "    \"\"\"\n",
    "    Sorts the array using HeapSort algorithm.\n",
    "    \"\"\"\n",
    "    def heapify(arr, n, i):\n",
    "        largest = i\n",
    "        l = 2 * i + 1\n",
    "        r = 2 * i + 2\n",
    "        if l < n and arr[i] < arr[l]:\n",
    "            largest = l\n",
    "        if r < n and arr[largest] < arr[r]:\n",
    "            largest = r\n",
    "        if largest != i:\n",
    "            arr[i], arr[largest] = arr[largest], arr[i]\n",
    "            heapify(arr, n, largest)\n",
    "    n = len(arr)\n",
    "    for i in range(n // 2 - 1, -1, -1):\n",
    "        heapify(arr, n, i)\n",
    "    for i in range(n - 1, 0, -1):\n",
    "        arr[i], arr[0] = arr[0], arr[i]\n",
    "        heapify(arr, i, 0)\n",
    "    return arr\n"
   ]
  },
  {
   "cell_type": "code",
   "execution_count": 4,
   "metadata": {},
   "outputs": [],
   "source": [
    "def insertion_sort(arr):\n",
    "    \"\"\"\n",
    "    Sorts the array using InsertionSort algorithm.\n",
    "    \"\"\"\n",
    "    for i in range(1, len(arr)):\n",
    "        key = arr[i]\n",
    "        j = i - 1\n",
    "        while j >= 0 and key < arr[j]:\n",
    "            arr[j + 1] = arr[j]\n",
    "            j -= 1\n",
    "        arr[j + 1] = key\n",
    "    return arr\n"
   ]
  },
  {
   "cell_type": "code",
   "execution_count": 5,
   "metadata": {},
   "outputs": [],
   "source": [
    "def merge_sort(arr):\n",
    "    \"\"\"\n",
    "    Sorts the array using MergeSort algorithm.\n",
    "    \"\"\"\n",
    "    if len(arr) > 1:\n",
    "        mid = len(arr) // 2\n",
    "        left_half = arr[:mid]\n",
    "        right_half = arr[mid:]\n",
    "        merge_sort(left_half)\n",
    "        merge_sort(right_half)\n",
    "        i = j = k = 0\n",
    "        while i < len(left_half) and j < len(right_half):\n",
    "            if left_half[i] < right_half[j]:\n",
    "                arr[k] = left_half[i]\n",
    "                i += 1\n",
    "            else:\n",
    "                arr[k] = right_half[j]\n",
    "                j += 1\n",
    "            k += 1\n",
    "        while i < len(left_half):\n",
    "            arr[k] = left_half[i]\n",
    "            i += 1\n",
    "            k += 1\n",
    "        while j < len(right_half):\n",
    "            arr[k] = right_half[j]\n",
    "            j += 1\n",
    "            k += 1\n",
    "    return arr\n"
   ]
  },
  {
   "cell_type": "code",
   "execution_count": 6,
   "metadata": {},
   "outputs": [],
   "source": [
    "def bucket_sort(input_list,alg_ord=\"IS\"):\n",
    "    algoritmos_ordencao={\n",
    "        \"QS\":quick_sort,\n",
    "        \"MS\":merge_sort,\n",
    "        \"IS\":insertion_sort,\n",
    "        \"HS\":heap_sort\n",
    "    }\n",
    "    # Find maximum value in the list and use length of the list to determine which value in the list goes into which bucket \n",
    "    max_value = np.max(input_list)\n",
    "    size = max_value/len(input_list)\n",
    "\n",
    "    # Create n empty buckets where n is equal to the length of the input list\n",
    "    buckets_list= []\n",
    "    for x in range(len(input_list)):\n",
    "        buckets_list.append([]) \n",
    "\n",
    "    # Put list elements into different buckets based on the size\n",
    "    for i in range(len(input_list)):\n",
    "        j = int (input_list[i] / size)\n",
    "        if j != len (input_list):\n",
    "            buckets_list[j].append(input_list[i])\n",
    "        else:\n",
    "            buckets_list[len(input_list) - 1].append(input_list[i])\n",
    "\n",
    "    # Sort elements within the buckets using Insertion Sort\n",
    "    for z in range(len(input_list)):\n",
    "        algoritmos_ordencao[alg_ord](buckets_list[z])\n",
    "            \n",
    "    # Concatenate buckets with sorted elements into a single list\n",
    "    final_output = []\n",
    "    for x in range(len (input_list)):\n",
    "        final_output = final_output + buckets_list[x]\n",
    "    #print(f\"Algoritmo: {alg_ord}\")\n",
    "    return final_output\n",
    "    \n"
   ]
  },
  {
   "cell_type": "code",
   "execution_count": 33,
   "metadata": {},
   "outputs": [],
   "source": [
    "def generate_random_vectors(n, m,max=50_000):\n",
    "    rng = np.random.default_rng(42)\n",
    "    \"\"\"\n",
    "    Generates n random integer vectors of length m using NumPy arrays.\n",
    "    \"\"\"\n",
    "    return rng.integers(0, m, size=(n, int(m)))\n",
    "\n",
    "\n",
    "# Sort each vector using the specified algorithms and measure the execution time\n",
    "algoritmos = [\"IS\",\"QS\",\"MS\",\"HS\"]\n",
    "alg_temp_exec= {\n",
    "    100:[],\n",
    "    500:[],\n",
    "    1_000:[],\n",
    "    5_000:[],\n",
    "    30_000:[],\n",
    "    80_000:[],\n",
    "    100_000:[],\n",
    "    150_000:[],\n",
    "    200_000:[],\n",
    "    }"
   ]
  },
  {
   "cell_type": "code",
   "execution_count": 46,
   "metadata": {},
   "outputs": [],
   "source": [
    "\n",
    "# Generate 10 random integer vectors of length 5\n",
    "tam_vetor = 150_000\n",
    "vectors = generate_random_vectors(1,tam_vetor)\n",
    "for alg in algoritmos:\n",
    "    for i, vector in enumerate(vectors):\n",
    "        start_time = time.time()\n",
    "        bucket_sort(vector,alg)\n",
    "        delta_T = time.time() - start_time\n",
    "        alg_temp_exec[tam_vetor].append({\"algoritmo\":alg,\"tempo_execucao\":delta_T})\n",
    "        #print(f\"Tempo execução: ({delta_T:.6f} seconds)\")\n"
   ]
  },
  {
   "cell_type": "code",
   "execution_count": 47,
   "metadata": {},
   "outputs": [
    {
     "data": {
      "text/plain": [
       "{100: [{'algoritmo': 'IS', 'tempo_execucao': 0.0},\n",
       "  {'algoritmo': 'QS', 'tempo_execucao': 0.0},\n",
       "  {'algoritmo': 'MS', 'tempo_execucao': 0.0},\n",
       "  {'algoritmo': 'HS', 'tempo_execucao': 0.0}],\n",
       " 500: [{'algoritmo': 'IS', 'tempo_execucao': 0.0},\n",
       "  {'algoritmo': 'QS', 'tempo_execucao': 0.0017507076263427734},\n",
       "  {'algoritmo': 'MS', 'tempo_execucao': 0.0017457008361816406},\n",
       "  {'algoritmo': 'HS', 'tempo_execucao': 0.0}],\n",
       " 1000: [{'algoritmo': 'IS', 'tempo_execucao': 0.0019991397857666016},\n",
       "  {'algoritmo': 'QS', 'tempo_execucao': 0.0030002593994140625},\n",
       "  {'algoritmo': 'MS', 'tempo_execucao': 0.0027055740356445312},\n",
       "  {'algoritmo': 'HS', 'tempo_execucao': 0.0017483234405517578}],\n",
       " 5000: [{'algoritmo': 'IS', 'tempo_execucao': 0.0394434928894043},\n",
       "  {'algoritmo': 'QS', 'tempo_execucao': 0.03998970985412598},\n",
       "  {'algoritmo': 'MS', 'tempo_execucao': 0.034470558166503906},\n",
       "  {'algoritmo': 'HS', 'tempo_execucao': 0.035515785217285156}],\n",
       " 30000: [{'algoritmo': 'IS', 'tempo_execucao': 1.4255294799804688},\n",
       "  {'algoritmo': 'QS', 'tempo_execucao': 1.4506349563598633},\n",
       "  {'algoritmo': 'MS', 'tempo_execucao': 1.459648609161377},\n",
       "  {'algoritmo': 'HS', 'tempo_execucao': 1.4851844310760498}],\n",
       " 80000: [{'algoritmo': 'IS', 'tempo_execucao': 10.8742356300354},\n",
       "  {'algoritmo': 'QS', 'tempo_execucao': 10.783888816833496},\n",
       "  {'algoritmo': 'MS', 'tempo_execucao': 11.121137857437134},\n",
       "  {'algoritmo': 'HS', 'tempo_execucao': 11.331486225128174}],\n",
       " 150000: [{'algoritmo': 'IS', 'tempo_execucao': 78.21727204322815},\n",
       "  {'algoritmo': 'QS', 'tempo_execucao': 74.29561233520508},\n",
       "  {'algoritmo': 'MS', 'tempo_execucao': 80.76810932159424},\n",
       "  {'algoritmo': 'HS', 'tempo_execucao': 88.63968014717102}],\n",
       " 200000: []}"
      ]
     },
     "execution_count": 47,
     "metadata": {},
     "output_type": "execute_result"
    }
   ],
   "source": [
    "alg_temp_exec"
   ]
  },
  {
   "cell_type": "code",
   "execution_count": 49,
   "metadata": {},
   "outputs": [
    {
     "data": {
      "text/plain": [
       "[]"
      ]
     },
     "execution_count": 49,
     "metadata": {},
     "output_type": "execute_result"
    }
   ],
   "source": [
    "alg_temp_exec.pop(200_000)"
   ]
  },
  {
   "cell_type": "code",
   "execution_count": 50,
   "metadata": {},
   "outputs": [
    {
     "data": {
      "text/plain": [
       "{100: [{'algoritmo': 'IS', 'tempo_execucao': 0.0},\n",
       "  {'algoritmo': 'QS', 'tempo_execucao': 0.0},\n",
       "  {'algoritmo': 'MS', 'tempo_execucao': 0.0},\n",
       "  {'algoritmo': 'HS', 'tempo_execucao': 0.0}],\n",
       " 500: [{'algoritmo': 'IS', 'tempo_execucao': 0.0},\n",
       "  {'algoritmo': 'QS', 'tempo_execucao': 0.0017507076263427734},\n",
       "  {'algoritmo': 'MS', 'tempo_execucao': 0.0017457008361816406},\n",
       "  {'algoritmo': 'HS', 'tempo_execucao': 0.0}],\n",
       " 1000: [{'algoritmo': 'IS', 'tempo_execucao': 0.0019991397857666016},\n",
       "  {'algoritmo': 'QS', 'tempo_execucao': 0.0030002593994140625},\n",
       "  {'algoritmo': 'MS', 'tempo_execucao': 0.0027055740356445312},\n",
       "  {'algoritmo': 'HS', 'tempo_execucao': 0.0017483234405517578}],\n",
       " 5000: [{'algoritmo': 'IS', 'tempo_execucao': 0.0394434928894043},\n",
       "  {'algoritmo': 'QS', 'tempo_execucao': 0.03998970985412598},\n",
       "  {'algoritmo': 'MS', 'tempo_execucao': 0.034470558166503906},\n",
       "  {'algoritmo': 'HS', 'tempo_execucao': 0.035515785217285156}],\n",
       " 30000: [{'algoritmo': 'IS', 'tempo_execucao': 1.4255294799804688},\n",
       "  {'algoritmo': 'QS', 'tempo_execucao': 1.4506349563598633},\n",
       "  {'algoritmo': 'MS', 'tempo_execucao': 1.459648609161377},\n",
       "  {'algoritmo': 'HS', 'tempo_execucao': 1.4851844310760498}],\n",
       " 80000: [{'algoritmo': 'IS', 'tempo_execucao': 10.8742356300354},\n",
       "  {'algoritmo': 'QS', 'tempo_execucao': 10.783888816833496},\n",
       "  {'algoritmo': 'MS', 'tempo_execucao': 11.121137857437134},\n",
       "  {'algoritmo': 'HS', 'tempo_execucao': 11.331486225128174}],\n",
       " 150000: [{'algoritmo': 'IS', 'tempo_execucao': 78.21727204322815},\n",
       "  {'algoritmo': 'QS', 'tempo_execucao': 74.29561233520508},\n",
       "  {'algoritmo': 'MS', 'tempo_execucao': 80.76810932159424},\n",
       "  {'algoritmo': 'HS', 'tempo_execucao': 88.63968014717102}]}"
      ]
     },
     "execution_count": 50,
     "metadata": {},
     "output_type": "execute_result"
    }
   ],
   "source": [
    "alg_temp_exec"
   ]
  },
  {
   "cell_type": "code",
   "execution_count": 62,
   "metadata": {},
   "outputs": [
    {
     "data": {
      "text/html": [
       "<div>\n",
       "<style scoped>\n",
       "    .dataframe tbody tr th:only-of-type {\n",
       "        vertical-align: middle;\n",
       "    }\n",
       "\n",
       "    .dataframe tbody tr th {\n",
       "        vertical-align: top;\n",
       "    }\n",
       "\n",
       "    .dataframe thead th {\n",
       "        text-align: right;\n",
       "    }\n",
       "</style>\n",
       "<table border=\"1\" class=\"dataframe\">\n",
       "  <thead>\n",
       "    <tr style=\"text-align: right;\">\n",
       "      <th></th>\n",
       "      <th>tempo_execucao</th>\n",
       "    </tr>\n",
       "  </thead>\n",
       "  <tbody>\n",
       "    <tr>\n",
       "      <th>100</th>\n",
       "      <td>50</td>\n",
       "    </tr>\n",
       "  </tbody>\n",
       "</table>\n",
       "</div>"
      ],
      "text/plain": [
       "     tempo_execucao\n",
       "100              50"
      ]
     },
     "execution_count": 62,
     "metadata": {},
     "output_type": "execute_result"
    }
   ],
   "source": [
    "df = pd.DataFrame({\"tempo_execucao\": [50]}, index=[100])\n",
    "df.head()"
   ]
  },
  {
   "cell_type": "code",
   "execution_count": 10,
   "metadata": {},
   "outputs": [
    {
     "ename": "NameError",
     "evalue": "name 'main' is not defined",
     "output_type": "error",
     "traceback": [
      "\u001b[1;31m---------------------------------------------------------------------------\u001b[0m",
      "\u001b[1;31mNameError\u001b[0m                                 Traceback (most recent call last)",
      "Cell \u001b[1;32mIn [10], line 1\u001b[0m\n\u001b[1;32m----> 1\u001b[0m \u001b[43mmain\u001b[49m()\n",
      "\u001b[1;31mNameError\u001b[0m: name 'main' is not defined"
     ]
    }
   ],
   "source": [
    "main()"
   ]
  }
 ],
 "metadata": {
  "kernelspec": {
   "display_name": "Python 3",
   "language": "python",
   "name": "python3"
  },
  "language_info": {
   "codemirror_mode": {
    "name": "ipython",
    "version": 3
   },
   "file_extension": ".py",
   "mimetype": "text/x-python",
   "name": "python",
   "nbconvert_exporter": "python",
   "pygments_lexer": "ipython3",
   "version": "3.11.0"
  }
 },
 "nbformat": 4,
 "nbformat_minor": 2
}
