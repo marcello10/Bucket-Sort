{
 "cells": [
  {
   "cell_type": "code",
   "execution_count": 41,
   "metadata": {},
   "outputs": [],
   "source": [
    "import numpy as np\n",
    "import time\n",
    "import pandas as pd\n",
    "import matplotlib.pyplot as plt\n",
    "import math\n"
   ]
  },
  {
   "cell_type": "code",
   "execution_count": 42,
   "metadata": {},
   "outputs": [],
   "source": [
    "def quick_sort(arr):\n",
    "    \"\"\"\n",
    "    Sorts the array using QuickSort algorithm.\n",
    "    \"\"\"\n",
    "    if len(arr) <= 1:\n",
    "        return arr\n",
    "    pivot = arr[len(arr) // 2]\n",
    "    left = [x for x in arr if x < pivot]\n",
    "    middle = [x for x in arr if x == pivot]\n",
    "    right = [x for x in arr if x > pivot]\n",
    "    return np.concatenate([quick_sort(left), middle, quick_sort(right)])\n"
   ]
  },
  {
   "cell_type": "code",
   "execution_count": 43,
   "metadata": {},
   "outputs": [],
   "source": [
    "def heap_sort(arr):\n",
    "    \"\"\"\n",
    "    Sorts the array using HeapSort algorithm.\n",
    "    \"\"\"\n",
    "    def heapify(arr, n, i):\n",
    "        largest = i\n",
    "        l = 2 * i + 1\n",
    "        r = 2 * i + 2\n",
    "        if l < n and arr[i] < arr[l]:\n",
    "            largest = l\n",
    "        if r < n and arr[largest] < arr[r]:\n",
    "            largest = r\n",
    "        if largest != i:\n",
    "            arr[i], arr[largest] = arr[largest], arr[i]\n",
    "            heapify(arr, n, largest)\n",
    "    n = len(arr)\n",
    "    for i in range(n // 2 - 1, -1, -1):\n",
    "        heapify(arr, n, i)\n",
    "    for i in range(n - 1, 0, -1):\n",
    "        arr[i], arr[0] = arr[0], arr[i]\n",
    "        heapify(arr, i, 0)\n",
    "    return arr\n"
   ]
  },
  {
   "cell_type": "code",
   "execution_count": 44,
   "metadata": {},
   "outputs": [],
   "source": [
    "def insertion_sort(arr):\n",
    "    \"\"\"\n",
    "    Sorts the array using InsertionSort algorithm.\n",
    "    \"\"\"\n",
    "    for i in range(1, len(arr)):\n",
    "        key = arr[i]\n",
    "        j = i - 1\n",
    "        while j >= 0 and key < arr[j]:\n",
    "            arr[j + 1] = arr[j]\n",
    "            j -= 1\n",
    "        arr[j + 1] = key\n",
    "    return arr\n"
   ]
  },
  {
   "cell_type": "code",
   "execution_count": 45,
   "metadata": {},
   "outputs": [],
   "source": [
    "def merge_sort(arr):\n",
    "    \"\"\"\n",
    "    Sorts the array using MergeSort algorithm.\n",
    "    \"\"\"\n",
    "    if len(arr) > 1:\n",
    "        mid = len(arr) // 2\n",
    "        left_half = arr[:mid]\n",
    "        right_half = arr[mid:]\n",
    "        merge_sort(left_half)\n",
    "        merge_sort(right_half)\n",
    "        i = j = k = 0\n",
    "        while i < len(left_half) and j < len(right_half):\n",
    "            if left_half[i] < right_half[j]:\n",
    "                arr[k] = left_half[i]\n",
    "                i += 1\n",
    "            else:\n",
    "                arr[k] = right_half[j]\n",
    "                j += 1\n",
    "            k += 1\n",
    "        while i < len(left_half):\n",
    "            arr[k] = left_half[i]\n",
    "            i += 1\n",
    "            k += 1\n",
    "        while j < len(right_half):\n",
    "            arr[k] = right_half[j]\n",
    "            j += 1\n",
    "            k += 1\n",
    "    return arr\n"
   ]
  },
  {
   "cell_type": "code",
   "execution_count": 46,
   "metadata": {},
   "outputs": [],
   "source": [
    "def bucket_sort(input_list,alg_ord=\"IS\"):\n",
    "    algoritmos_ordencao={\n",
    "        \"QS\":quick_sort,\n",
    "        \"MS\":merge_sort,\n",
    "        \"IS\":insertion_sort,\n",
    "        \"HS\":heap_sort\n",
    "    }\n",
    "    # Find maximum value in the list and use length of the list to determine which value in the list goes into which bucket \n",
    "    max_value = np.max(input_list)\n",
    "    size = max_value/len(input_list)\n",
    "\n",
    "    # Create n empty buckets where n is equal to the length of the input list\n",
    "    buckets_list= []\n",
    "    for x in range(len(input_list)):\n",
    "        buckets_list.append([]) \n",
    "\n",
    "    # Put list elements into different buckets based on the size\n",
    "    for i in range(len(input_list)):\n",
    "        j = int (input_list[i] / size)\n",
    "        if j != len (input_list):\n",
    "            buckets_list[j].append(input_list[i])\n",
    "        else:\n",
    "            buckets_list[len(input_list) - 1].append(input_list[i])\n",
    "\n",
    "    # Sort elements within the buckets using Insertion Sort\n",
    "    for z in range(len(input_list)):\n",
    "        algoritmos_ordencao[alg_ord](buckets_list[z])\n",
    "            \n",
    "    # Concatenate buckets with sorted elements into a single list\n",
    "    final_output = []\n",
    "    for x in range(len (input_list)):\n",
    "        final_output = final_output + buckets_list[x]\n",
    "    #print(f\"Algoritmo: {alg_ord}\")\n",
    "    return final_output\n",
    "    \n"
   ]
  },
  {
   "cell_type": "code",
   "execution_count": 57,
   "metadata": {},
   "outputs": [],
   "source": [
    "def generate_random_vectors(n, m,max=50_000):\n",
    "    rng = np.random.default_rng(42)\n",
    "    \"\"\"\n",
    "    Generates n random integer vectors of length m using NumPy arrays.\n",
    "    \"\"\"\n",
    "    return rng.integers(0, m, size=(n, int(m)))\n",
    "\n",
    "# Generate 10 random integer vectors of length 5\n",
    "tam_vetor = 80_000\n",
    "vectors = generate_random_vectors(1,tam_vetor)\n",
    "\n",
    "# Sort each vector using the specified algorithms and measure the execution time\n",
    "algoritmos = [\"IS\",\"QS\",\"MS\",\"HS\"]\n",
    "alg_temp_exec= {\n",
    "    \"IS\":[],\n",
    "    \"QS\":[],\n",
    "    \"MS\":[],\n",
    "    \"HS\":[]\n",
    "}\n",
    "for alg in algoritmos:\n",
    "    for i, vector in enumerate(vectors):\n",
    "        start_time = time.time()\n",
    "        bucket_sort(vector,alg)\n",
    "        delta_T = time.time() - start_time\n",
    "        alg_temp_exec[alg].append(delta_T)\n",
    "        #print(f\"Tempo execução: ({delta_T:.6f} seconds)\")\n"
   ]
  },
  {
   "cell_type": "code",
   "execution_count": 58,
   "metadata": {},
   "outputs": [
    {
     "data": {
      "text/plain": [
       "{'IS': [60.15324664115906],\n",
       " 'QS': [62.55714726448059],\n",
       " 'MS': [56.09060740470886],\n",
       " 'HS': [61.05744671821594]}"
      ]
     },
     "execution_count": 58,
     "metadata": {},
     "output_type": "execute_result"
    }
   ],
   "source": [
    "alg_temp_exec"
   ]
  },
  {
   "cell_type": "code",
   "execution_count": 53,
   "metadata": {},
   "outputs": [
    {
     "data": {
      "text/html": [
       "<div>\n",
       "<style scoped>\n",
       "    .dataframe tbody tr th:only-of-type {\n",
       "        vertical-align: middle;\n",
       "    }\n",
       "\n",
       "    .dataframe tbody tr th {\n",
       "        vertical-align: top;\n",
       "    }\n",
       "\n",
       "    .dataframe thead th {\n",
       "        text-align: right;\n",
       "    }\n",
       "</style>\n",
       "<table border=\"1\" class=\"dataframe\">\n",
       "  <thead>\n",
       "    <tr style=\"text-align: right;\">\n",
       "      <th></th>\n",
       "      <th>IS</th>\n",
       "      <th>QS</th>\n",
       "      <th>MS</th>\n",
       "      <th>HS</th>\n",
       "    </tr>\n",
       "  </thead>\n",
       "  <tbody>\n",
       "    <tr>\n",
       "      <th>0</th>\n",
       "      <td>4.201534</td>\n",
       "      <td>3.605610</td>\n",
       "      <td>4.464609</td>\n",
       "      <td>3.494288</td>\n",
       "    </tr>\n",
       "    <tr>\n",
       "      <th>1</th>\n",
       "      <td>3.135195</td>\n",
       "      <td>3.270594</td>\n",
       "      <td>3.585881</td>\n",
       "      <td>3.775283</td>\n",
       "    </tr>\n",
       "    <tr>\n",
       "      <th>2</th>\n",
       "      <td>4.141330</td>\n",
       "      <td>3.646045</td>\n",
       "      <td>3.654216</td>\n",
       "      <td>3.623642</td>\n",
       "    </tr>\n",
       "  </tbody>\n",
       "</table>\n",
       "</div>"
      ],
      "text/plain": [
       "         IS        QS        MS        HS\n",
       "0  4.201534  3.605610  4.464609  3.494288\n",
       "1  3.135195  3.270594  3.585881  3.775283\n",
       "2  4.141330  3.646045  3.654216  3.623642"
      ]
     },
     "execution_count": 53,
     "metadata": {},
     "output_type": "execute_result"
    }
   ],
   "source": [
    "df = pd.DataFrame(alg_temp_exec)\n",
    "df.head()"
   ]
  },
  {
   "cell_type": "code",
   "execution_count": 50,
   "metadata": {},
   "outputs": [
    {
     "name": "stdout",
     "output_type": "stream",
     "text": [
      "ORIGINAL LIST:\n",
      "[1.2, 0.22, 0.43, 0.36, 0.39, 0.27]\n",
      "SORTED LIST:\n",
      "[0.22, 0.27, 0.36, 0.39, 0.43, 1.2]\n"
     ]
    }
   ],
   "source": [
    "main()"
   ]
  }
 ],
 "metadata": {
  "kernelspec": {
   "display_name": "Python 3",
   "language": "python",
   "name": "python3"
  },
  "language_info": {
   "codemirror_mode": {
    "name": "ipython",
    "version": 3
   },
   "file_extension": ".py",
   "mimetype": "text/x-python",
   "name": "python",
   "nbconvert_exporter": "python",
   "pygments_lexer": "ipython3",
   "version": "3.11.0"
  }
 },
 "nbformat": 4,
 "nbformat_minor": 2
}
